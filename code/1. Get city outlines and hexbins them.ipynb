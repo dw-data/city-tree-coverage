{
 "cells": [
  {
   "cell_type": "markdown",
   "id": "671290ef",
   "metadata": {},
   "source": [
    "# 1. Get city outlines and hexbins them"
   ]
  },
  {
   "cell_type": "markdown",
   "id": "394fac98",
   "metadata": {},
   "source": [
    "In this notebook, we will be using the Global Human Setllement Layer's [Urban Center Database](https://human-settlement.emergency.copernicus.eu/ghs_stat_ucdb2015mt_r2019a.php) to select which cities we will analyze. We will also divide the selected cities into hexagons using Uber's [H3 package](https://www.uber.com/en-BR/blog/h3/)."
   ]
  },
  {
   "cell_type": "code",
   "execution_count": 1,
   "id": "dde84060",
   "metadata": {},
   "outputs": [],
   "source": [
    "# Importing packages\n",
    "import ee\n",
    "import geemap\n",
    "import geopandas as gpd\n",
    "import h3\n",
    "from os import makedirs\n",
    "from os.path import exists\n",
    "import pandas as pd\n",
    "from unidecode import unidecode\n",
    "from shapely.geometry import Polygon"
   ]
  },
  {
   "cell_type": "code",
   "execution_count": 2,
   "id": "948725f8",
   "metadata": {},
   "outputs": [
    {
     "data": {
      "text/html": [
       "\n",
       "            <style>\n",
       "                .geemap-dark {\n",
       "                    --jp-widgets-color: white;\n",
       "                    --jp-widgets-label-color: white;\n",
       "                    --jp-ui-font-color1: white;\n",
       "                    --jp-layout-color2: #454545;\n",
       "                    background-color: #383838;\n",
       "                }\n",
       "\n",
       "                .geemap-dark .jupyter-button {\n",
       "                    --jp-layout-color3: #383838;\n",
       "                }\n",
       "\n",
       "                .geemap-colab {\n",
       "                    background-color: var(--colab-primary-surface-color, white);\n",
       "                }\n",
       "\n",
       "                .geemap-colab .jupyter-button {\n",
       "                    --jp-layout-color3: var(--colab-primary-surface-color, white);\n",
       "                }\n",
       "            </style>\n",
       "            "
      ],
      "text/plain": [
       "<IPython.core.display.HTML object>"
      ]
     },
     "metadata": {},
     "output_type": "display_data"
    }
   ],
   "source": [
    "# Setting options\n",
    "pd.set_option('display.max_rows', 500)\n",
    "pd.set_option('display.float_format', lambda x: '%.3f' % x)"
   ]
  },
  {
   "cell_type": "markdown",
   "id": "53a45861",
   "metadata": {},
   "source": [
    "## 1.1 Selecting urban centers"
   ]
  },
  {
   "cell_type": "markdown",
   "id": "4980a107",
   "metadata": {},
   "source": [
    "We are using the outlines of the urban centers as defined on this [research paper](https://www.nature.com/articles/s41597-023-02691-1), by scientists at the EU'S Joint Research Center. It uses satellite observations to estimate population density at the entire Earth. Then, from this observations, it derives the extent of urban centers. The outline of cities _will not_ coindice with political-administrative divisions. Sometimes, one urban center may extend beyond national borders or connect cities that are often thought of as separate entities. However, as the article states, this approach is still best for international comparisons than relying on hard-to-compare, arbitrary administrative boundaries."
   ]
  },
  {
   "cell_type": "code",
   "execution_count": 3,
   "id": "486e07b8",
   "metadata": {},
   "outputs": [
    {
     "data": {
      "text/html": [
       "\n",
       "            <style>\n",
       "                .geemap-dark {\n",
       "                    --jp-widgets-color: white;\n",
       "                    --jp-widgets-label-color: white;\n",
       "                    --jp-ui-font-color1: white;\n",
       "                    --jp-layout-color2: #454545;\n",
       "                    background-color: #383838;\n",
       "                }\n",
       "\n",
       "                .geemap-dark .jupyter-button {\n",
       "                    --jp-layout-color3: #383838;\n",
       "                }\n",
       "\n",
       "                .geemap-colab {\n",
       "                    background-color: var(--colab-primary-surface-color, white);\n",
       "                }\n",
       "\n",
       "                .geemap-colab .jupyter-button {\n",
       "                    --jp-layout-color3: var(--colab-primary-surface-color, white);\n",
       "                }\n",
       "            </style>\n",
       "            "
      ],
      "text/plain": [
       "<IPython.core.display.HTML object>"
      ]
     },
     "metadata": {},
     "output_type": "display_data"
    }
   ],
   "source": [
    "# Urban centers as defined by the EU Joint Research Center\n",
    "cities = gpd.read_file(\"../data/GHS_STAT_UCDB2015MT_GLOBE_R2019A/GHS_STAT_UCDB2015MT_GLOBE_R2019A_V1_2.gpkg\")"
   ]
  },
  {
   "cell_type": "code",
   "execution_count": 4,
   "id": "fcb3ffd3",
   "metadata": {},
   "outputs": [
    {
     "data": {
      "text/html": [
       "\n",
       "            <style>\n",
       "                .geemap-dark {\n",
       "                    --jp-widgets-color: white;\n",
       "                    --jp-widgets-label-color: white;\n",
       "                    --jp-ui-font-color1: white;\n",
       "                    --jp-layout-color2: #454545;\n",
       "                    background-color: #383838;\n",
       "                }\n",
       "\n",
       "                .geemap-dark .jupyter-button {\n",
       "                    --jp-layout-color3: #383838;\n",
       "                }\n",
       "\n",
       "                .geemap-colab {\n",
       "                    background-color: var(--colab-primary-surface-color, white);\n",
       "                }\n",
       "\n",
       "                .geemap-colab .jupyter-button {\n",
       "                    --jp-layout-color3: var(--colab-primary-surface-color, white);\n",
       "                }\n",
       "            </style>\n",
       "            "
      ],
      "text/plain": [
       "<IPython.core.display.HTML object>"
      ]
     },
     "metadata": {},
     "output_type": "display_data"
    }
   ],
   "source": [
    "# Gets rid of urban centers marked as 'false positives' and 'uncertain'\n",
    "# This means that, while the satellite detected something there, experts disagreed about\n",
    "# whether it should be classified as such.\n",
    "cities = cities[cities.QA2_1V==1]"
   ]
  },
  {
   "cell_type": "code",
   "execution_count": 5,
   "id": "d47855e6",
   "metadata": {},
   "outputs": [
    {
     "data": {
      "text/html": [
       "\n",
       "            <style>\n",
       "                .geemap-dark {\n",
       "                    --jp-widgets-color: white;\n",
       "                    --jp-widgets-label-color: white;\n",
       "                    --jp-ui-font-color1: white;\n",
       "                    --jp-layout-color2: #454545;\n",
       "                    background-color: #383838;\n",
       "                }\n",
       "\n",
       "                .geemap-dark .jupyter-button {\n",
       "                    --jp-layout-color3: #383838;\n",
       "                }\n",
       "\n",
       "                .geemap-colab {\n",
       "                    background-color: var(--colab-primary-surface-color, white);\n",
       "                }\n",
       "\n",
       "                .geemap-colab .jupyter-button {\n",
       "                    --jp-layout-color3: var(--colab-primary-surface-color, white);\n",
       "                }\n",
       "            </style>\n",
       "            "
      ],
      "text/plain": [
       "<IPython.core.display.HTML object>"
      ]
     },
     "metadata": {},
     "output_type": "display_data"
    }
   ],
   "source": [
    "# Applies unidecode on the city names to avoid errors \n",
    "# when saving files on Google Earth Engine later\n",
    "cities['UC_NM_LST'] = cities['UC_NM_LST'].apply(unidecode)\n",
    "cities['UC_NM_MN'] = cities['UC_NM_MN'].apply(unidecode)"
   ]
  },
  {
   "cell_type": "code",
   "execution_count": 6,
   "id": "e3de12d1",
   "metadata": {},
   "outputs": [
    {
     "data": {
      "text/html": [
       "\n",
       "            <style>\n",
       "                .geemap-dark {\n",
       "                    --jp-widgets-color: white;\n",
       "                    --jp-widgets-label-color: white;\n",
       "                    --jp-ui-font-color1: white;\n",
       "                    --jp-layout-color2: #454545;\n",
       "                    background-color: #383838;\n",
       "                }\n",
       "\n",
       "                .geemap-dark .jupyter-button {\n",
       "                    --jp-layout-color3: #383838;\n",
       "                }\n",
       "\n",
       "                .geemap-colab {\n",
       "                    background-color: var(--colab-primary-surface-color, white);\n",
       "                }\n",
       "\n",
       "                .geemap-colab .jupyter-button {\n",
       "                    --jp-layout-color3: var(--colab-primary-surface-color, white);\n",
       "                }\n",
       "            </style>\n",
       "            "
      ],
      "text/plain": [
       "<IPython.core.display.HTML object>"
      ]
     },
     "metadata": {},
     "output_type": "display_data"
    }
   ],
   "source": [
    "# Keeps only the necessary column names\n",
    "cities = cities[['ID_HDC_G0', 'CTR_MN_NM', 'UC_NM_MN', 'CTR_MN_ISO', 'UC_NM_LST', 'P15', 'geometry']]"
   ]
  },
  {
   "cell_type": "code",
   "execution_count": 7,
   "id": "f0e977f0",
   "metadata": {},
   "outputs": [
    {
     "data": {
      "text/html": [
       "\n",
       "            <style>\n",
       "                .geemap-dark {\n",
       "                    --jp-widgets-color: white;\n",
       "                    --jp-widgets-label-color: white;\n",
       "                    --jp-ui-font-color1: white;\n",
       "                    --jp-layout-color2: #454545;\n",
       "                    background-color: #383838;\n",
       "                }\n",
       "\n",
       "                .geemap-dark .jupyter-button {\n",
       "                    --jp-layout-color3: #383838;\n",
       "                }\n",
       "\n",
       "                .geemap-colab {\n",
       "                    background-color: var(--colab-primary-surface-color, white);\n",
       "                }\n",
       "\n",
       "                .geemap-colab .jupyter-button {\n",
       "                    --jp-layout-color3: var(--colab-primary-surface-color, white);\n",
       "                }\n",
       "            </style>\n",
       "            "
      ],
      "text/plain": [
       "<IPython.core.display.HTML object>"
      ]
     },
     "metadata": {},
     "output_type": "display_data"
    }
   ],
   "source": [
    "# Saves the file as a shapefile.\n",
    "# This shapefile will be uploaded manually to Google Earth Engine\n",
    "# under the name 'projects/dw-city-tree-coverage/assets/city_outlines'\n",
    "dir_ = \"../output/city_outlines\"\n",
    "if not exists(dir_):\n",
    "    makedirs(dir_)\n",
    "    \n",
    "cities.to_file(f\"{dir_}/city_outlines.shp\")"
   ]
  },
  {
   "cell_type": "markdown",
   "id": "fafa4d94",
   "metadata": {},
   "source": [
    "## 1.2  Selecting key urban centers and making H3 cells"
   ]
  },
  {
   "cell_type": "markdown",
   "id": "5b43a79f",
   "metadata": {},
   "source": [
    "For some key urban centers (capitals and large cities of countries we are specially interested in), we will split the geometries into smaller areas. This way, we can compute not only the total tree coverage of each city, but the tree dsitribution within different areas of cities. It also will allow us to compute how many people live in areas with high tree coverage and low tree coverage within the same city.\n",
    "\n",
    "The areas will be divided into hexagons using the H3 package because of its ease of use, compared to alternatives such as S2, which would produce squaes. In a personal note, hexagons also look better than squares when plotted over maps.\n",
    "\n",
    "One important thing to notice is that the hexagons will _not_ have all the same area. They will vary according to latitude, ranging from around 600sqm to 1000sqm – with most of them falling on the 700–800sqm range. Nevertheless, _within a single city_, they will always be of comaparable size."
   ]
  },
  {
   "cell_type": "code",
   "execution_count": 8,
   "id": "c8dba2b4",
   "metadata": {},
   "outputs": [
    {
     "data": {
      "text/html": [
       "\n",
       "            <style>\n",
       "                .geemap-dark {\n",
       "                    --jp-widgets-color: white;\n",
       "                    --jp-widgets-label-color: white;\n",
       "                    --jp-ui-font-color1: white;\n",
       "                    --jp-layout-color2: #454545;\n",
       "                    background-color: #383838;\n",
       "                }\n",
       "\n",
       "                .geemap-dark .jupyter-button {\n",
       "                    --jp-layout-color3: #383838;\n",
       "                }\n",
       "\n",
       "                .geemap-colab {\n",
       "                    background-color: var(--colab-primary-surface-color, white);\n",
       "                }\n",
       "\n",
       "                .geemap-colab .jupyter-button {\n",
       "                    --jp-layout-color3: var(--colab-primary-surface-color, white);\n",
       "                }\n",
       "            </style>\n",
       "            "
      ],
      "text/plain": [
       "<IPython.core.display.HTML object>"
      ]
     },
     "metadata": {},
     "output_type": "display_data"
    }
   ],
   "source": [
    "# A manual selection of the cities we are interested in\n",
    "cities_of_interest = [6118, 3050, 3274, 5915, 1105, 3027, 5528, 2135, 2101, 9872,\n",
    "3381, 3196, 849, 1303, 2384, 931, 10687, 12080, 12274, 3209,\n",
    "621, 392, 473, 4094, 2927, 2851, 2749, 816, 2095,\n",
    "467, 3902, 1701, 3255, 5134, 3244, 2046, 1910, 1502, 3420,\n",
    "288, 359, 3032, 741, 3193, 11862, 6955, 1656, 5737, 5314,\n",
    "1510, 2897, 4408, 12964, 5936, 4808, 12389, 4337, 2971,\n",
    "8835, 3339, 2253, 3269, 1575, 143, 3332, 3034, 10248, 4220,\n",
    "11139, 2125, 367, 2167, 2493, 6169, 458, 528, 12829, 3216,\n",
    "1551, 1074, 3444, 3675, 4172, 5698, 4335, 1452, 11498, 321,\n",
    "3270, 4322, 3069, 2965, 2973, 4407, 3186, 10715, 3809, 12696,\n",
    "4679, 4427, 3517, 1138, 10, 79, 183, 323, 400,\n",
    "530, 634, 651, 770, 855, 945, 1022, 1045, 6008, 857,\n",
    "11136, 3323, 5635, 3673, 3868, 3798, 367, 2971]"
   ]
  },
  {
   "cell_type": "code",
   "execution_count": 9,
   "id": "5dbf9c62",
   "metadata": {},
   "outputs": [
    {
     "data": {
      "text/html": [
       "\n",
       "            <style>\n",
       "                .geemap-dark {\n",
       "                    --jp-widgets-color: white;\n",
       "                    --jp-widgets-label-color: white;\n",
       "                    --jp-ui-font-color1: white;\n",
       "                    --jp-layout-color2: #454545;\n",
       "                    background-color: #383838;\n",
       "                }\n",
       "\n",
       "                .geemap-dark .jupyter-button {\n",
       "                    --jp-layout-color3: #383838;\n",
       "                }\n",
       "\n",
       "                .geemap-colab {\n",
       "                    background-color: var(--colab-primary-surface-color, white);\n",
       "                }\n",
       "\n",
       "                .geemap-colab .jupyter-button {\n",
       "                    --jp-layout-color3: var(--colab-primary-surface-color, white);\n",
       "                }\n",
       "            </style>\n",
       "            "
      ],
      "text/plain": [
       "<IPython.core.display.HTML object>"
      ]
     },
     "metadata": {},
     "output_type": "display_data"
    },
    {
     "name": "stdout",
     "output_type": "stream",
     "text": [
      "San Jose - United States\n",
      "Phoenix - United States\n",
      "Ciudad Juarez - Mexico\n",
      "Anchorage - United States\n",
      "Guatemala City - Guatemala\n",
      "San Salvador - El Salvador\n",
      "Dallas - United States\n",
      "Tegucigalpa - Honduras\n",
      "Managua - Nicaragua\n",
      "San Jose - Costa Rica\n",
      "New Orleans - United States\n",
      "Panama City - Panama\n",
      "Quito - Ecuador\n",
      "Havana - Cuba\n",
      "Lima - Peru\n",
      "Nashville - United States\n",
      "Bogota - Colombia\n",
      "Chicago - United States\n",
      "Indianapolis - United States\n",
      "Port-au-Prince - Haiti\n",
      "Detroit - United States\n",
      "Santo Domingo - Dominican Republic\n",
      "El Alto [La Paz] - Bolivia\n",
      "Washington D.C. - United States\n",
      "Caracas - Venezuela\n",
      "Santiago - Chile\n",
      "New York - United States\n",
      "Boston - United States\n",
      "Portland - United States\n",
      "Asuncion - Paraguay\n",
      "Buenos Aires - Argentina\n",
      "Montevideo - Uruguay\n",
      "Sao Paulo - Brazil\n",
      "Dakar - Senegal\n",
      "Conakry - Guinea\n",
      "Reykjavik - Iceland\n",
      "Lisbon - Portugal\n",
      "Casablanca - Morocco\n",
      "Dublin - Ireland\n",
      "Madrid - Spain\n",
      "Accra - Ghana\n",
      "Paris - France\n",
      "Algiers - Algeria\n",
      "Porto-Novo - Benin\n",
      "Lagos - Nigeria\n",
      "Brussels - Belgium\n",
      "Amsterdam - Netherlands\n",
      "Luxembourg - Luxembourg\n",
      "Bern - Switzerland\n",
      "Oslo - Norway\n",
      "Copenhagen - Denmark\n",
      "Berlin - Germany\n",
      "Rome - Italy\n",
      "Prague - Czech Republic\n",
      "Ljubljana - Slovenia\n",
      "Tripoli - Libya\n",
      "Stockholm - Sweden\n",
      "Vienna - Austria\n",
      "Zagreb - Croatia\n",
      "Valletta - Malta\n",
      "Luanda - Angola\n",
      "Bratislava - Slovakia\n",
      "N'Djamena - Chad\n",
      "Budapest - Hungary\n",
      "Sarajevo - Bosnia and Herzegovina\n",
      "Kinshasa - Democratic Republic of the Congo\n",
      "Warsaw - Poland\n",
      "Helsinki - Finland\n",
      "Tallinn - Estonia\n",
      "Riga - Latvia\n",
      "Belgrade - Serbia\n",
      "Tirana - Albania\n",
      "Pristina - Kosovo\n",
      "Skopje - Macedonia\n",
      "Vilnius - Lithuania\n",
      "Sofia - Bulgaria\n",
      "Athens - Greece\n",
      "Bucharest - Romania\n",
      "Kyiv - Ukraine\n",
      "Johannesburg - South Africa\n",
      "Moscow - Russia\n",
      "Lusaka - Zambia\n",
      "Ankara - Turkey\n",
      "Durban - South Africa\n",
      "Cairo - Egypt\n",
      "Nicosia - Cyprus\n",
      "Kigali - Rwanda\n",
      "Maputo - Mozambique\n",
      "Juba - South Sudan\n",
      "Khartoum - Sudan\n",
      "Beirut - Lebanon\n",
      "Damascus - Syria\n",
      "Amman - Jordan\n",
      "Kampala - Uganda\n",
      "Dodoma - Tanzania\n",
      "Nairobi - Kenya\n",
      "Addis Ababa - Ethiopia\n",
      "Baghdad - Iraq\n",
      "Baku - Azerbaijan\n",
      "Sana'a - Yemen\n",
      "Riyadh - Saudi Arabia\n",
      "Tehran - Iran\n",
      "Dubai - United Arab Emirates\n",
      "Nur-Sultan - Kazakhstan\n",
      "Tashkent - Uzbekistan\n",
      "Kabul - Afghanistan\n",
      "Karachi - Pakistan\n",
      "Delhi [New Delhi] - India\n",
      "Colombo - Sri Lanka\n",
      "Dhaka - Bangladesh\n",
      "Yangon - Myanmar\n",
      "Beijing - China\n",
      "Bangkok - Thailand\n",
      "Hanoi - Vietnam\n",
      "Kuala Lumpur - Malaysia\n",
      "Singapore - Singapore\n",
      "Jakarta - Indonesia\n",
      "Guangzhou - China\n",
      "Hong Kong - China\n",
      "Seoul - South Korea\n",
      "New Taipei [Taipei] - Taiwan\n",
      "Quezon City [Manila] - Philippines\n",
      "Tokyo - Japan\n"
     ]
    }
   ],
   "source": [
    "# A quick look at the cities listes above\n",
    "for index, row in cities[cities.ID_HDC_G0.isin(cities_of_interest)].iterrows():\n",
    "    print(row.UC_NM_MN, '-', row.CTR_MN_NM)"
   ]
  },
  {
   "cell_type": "code",
   "execution_count": 10,
   "id": "f97382c0",
   "metadata": {},
   "outputs": [
    {
     "data": {
      "text/html": [
       "\n",
       "            <style>\n",
       "                .geemap-dark {\n",
       "                    --jp-widgets-color: white;\n",
       "                    --jp-widgets-label-color: white;\n",
       "                    --jp-ui-font-color1: white;\n",
       "                    --jp-layout-color2: #454545;\n",
       "                    background-color: #383838;\n",
       "                }\n",
       "\n",
       "                .geemap-dark .jupyter-button {\n",
       "                    --jp-layout-color3: #383838;\n",
       "                }\n",
       "\n",
       "                .geemap-colab {\n",
       "                    background-color: var(--colab-primary-surface-color, white);\n",
       "                }\n",
       "\n",
       "                .geemap-colab .jupyter-button {\n",
       "                    --jp-layout-color3: var(--colab-primary-surface-color, white);\n",
       "                }\n",
       "            </style>\n",
       "            "
      ],
      "text/plain": [
       "<IPython.core.display.HTML object>"
      ]
     },
     "metadata": {},
     "output_type": "display_data"
    }
   ],
   "source": [
    "# Creates a new gdf with those cities only.\n",
    "# Not that we are resetting the index, so they will align with a for loop later.\n",
    "hexbinned_cities = cities[cities.ID_HDC_G0.isin(cities_of_interest)].reset_index()"
   ]
  },
  {
   "cell_type": "code",
   "execution_count": 11,
   "id": "a9c9e9be",
   "metadata": {},
   "outputs": [
    {
     "data": {
      "text/html": [
       "\n",
       "            <style>\n",
       "                .geemap-dark {\n",
       "                    --jp-widgets-color: white;\n",
       "                    --jp-widgets-label-color: white;\n",
       "                    --jp-ui-font-color1: white;\n",
       "                    --jp-layout-color2: #454545;\n",
       "                    background-color: #383838;\n",
       "                }\n",
       "\n",
       "                .geemap-dark .jupyter-button {\n",
       "                    --jp-layout-color3: #383838;\n",
       "                }\n",
       "\n",
       "                .geemap-colab {\n",
       "                    background-color: var(--colab-primary-surface-color, white);\n",
       "                }\n",
       "\n",
       "                .geemap-colab .jupyter-button {\n",
       "                    --jp-layout-color3: var(--colab-primary-surface-color, white);\n",
       "                }\n",
       "            </style>\n",
       "            "
      ],
      "text/plain": [
       "<IPython.core.display.HTML object>"
      ]
     },
     "metadata": {},
     "output_type": "display_data"
    }
   ],
   "source": [
    "# Converts all of them to H3 cells at resolution 8.\n",
    "# They will have roughly 0.73sqkm, according to the documentation.\n",
    "# https://h3geo.org/docs/core-library/restable/\n",
    "# Notice, again, the reset index\n",
    "city_hexagons = hexbinned_cities.geometry.apply(lambda x: h3.geo_to_cells(x, res=8)).reset_index()"
   ]
  },
  {
   "cell_type": "code",
   "execution_count": 12,
   "id": "ecccd5ac",
   "metadata": {},
   "outputs": [
    {
     "data": {
      "text/html": [
       "\n",
       "            <style>\n",
       "                .geemap-dark {\n",
       "                    --jp-widgets-color: white;\n",
       "                    --jp-widgets-label-color: white;\n",
       "                    --jp-ui-font-color1: white;\n",
       "                    --jp-layout-color2: #454545;\n",
       "                    background-color: #383838;\n",
       "                }\n",
       "\n",
       "                .geemap-dark .jupyter-button {\n",
       "                    --jp-layout-color3: #383838;\n",
       "                }\n",
       "\n",
       "                .geemap-colab {\n",
       "                    background-color: var(--colab-primary-surface-color, white);\n",
       "                }\n",
       "\n",
       "                .geemap-colab .jupyter-button {\n",
       "                    --jp-layout-color3: var(--colab-primary-surface-color, white);\n",
       "                }\n",
       "            </style>\n",
       "            "
      ],
      "text/plain": [
       "<IPython.core.display.HTML object>"
      ]
     },
     "metadata": {},
     "output_type": "display_data"
    },
    {
     "data": {
      "text/html": [
       "<div>\n",
       "<style scoped>\n",
       "    .dataframe tbody tr th:only-of-type {\n",
       "        vertical-align: middle;\n",
       "    }\n",
       "\n",
       "    .dataframe tbody tr th {\n",
       "        vertical-align: top;\n",
       "    }\n",
       "\n",
       "    .dataframe thead th {\n",
       "        text-align: right;\n",
       "    }\n",
       "</style>\n",
       "<table border=\"1\" class=\"dataframe\">\n",
       "  <thead>\n",
       "    <tr style=\"text-align: right;\">\n",
       "      <th></th>\n",
       "      <th>index</th>\n",
       "      <th>geometry</th>\n",
       "    </tr>\n",
       "  </thead>\n",
       "  <tbody>\n",
       "    <tr>\n",
       "      <th>0</th>\n",
       "      <td>0</td>\n",
       "      <td>[882834443bfffff, 8828347307fffff, 882830983bf...</td>\n",
       "    </tr>\n",
       "    <tr>\n",
       "      <th>1</th>\n",
       "      <td>1</td>\n",
       "      <td>[8848ebaa85fffff, 8829b6d431fffff, 8829b6da07f...</td>\n",
       "    </tr>\n",
       "    <tr>\n",
       "      <th>2</th>\n",
       "      <td>2</td>\n",
       "      <td>[8848c6c653fffff, 8848c68981fffff, 8848c68b37f...</td>\n",
       "    </tr>\n",
       "    <tr>\n",
       "      <th>3</th>\n",
       "      <td>3</td>\n",
       "      <td>[880c733a1dfffff, 880c733a89fffff, 880c733a11f...</td>\n",
       "    </tr>\n",
       "    <tr>\n",
       "      <th>4</th>\n",
       "      <td>4</td>\n",
       "      <td>[886d291a81fffff, 886d290319fffff, 886d290143f...</td>\n",
       "    </tr>\n",
       "  </tbody>\n",
       "</table>\n",
       "</div>"
      ],
      "text/plain": [
       "   index                                           geometry\n",
       "0      0  [882834443bfffff, 8828347307fffff, 882830983bf...\n",
       "1      1  [8848ebaa85fffff, 8829b6d431fffff, 8829b6da07f...\n",
       "2      2  [8848c6c653fffff, 8848c68981fffff, 8848c68b37f...\n",
       "3      3  [880c733a1dfffff, 880c733a89fffff, 880c733a11f...\n",
       "4      4  [886d291a81fffff, 886d290319fffff, 886d290143f..."
      ]
     },
     "execution_count": 12,
     "metadata": {},
     "output_type": "execute_result"
    }
   ],
   "source": [
    "# We now have hexadecimal ids for all the hexagons within a city.\n",
    "# For example, city at index 9 was decomposed in hexagons 882834443bfffff, 8828347307fffff... and so on.\n",
    "# We need to convert that into something that looks more like a proper Polygon.\n",
    "city_hexagons.head()"
   ]
  },
  {
   "cell_type": "code",
   "execution_count": 13,
   "id": "a572f7c6",
   "metadata": {},
   "outputs": [
    {
     "data": {
      "text/html": [
       "\n",
       "            <style>\n",
       "                .geemap-dark {\n",
       "                    --jp-widgets-color: white;\n",
       "                    --jp-widgets-label-color: white;\n",
       "                    --jp-ui-font-color1: white;\n",
       "                    --jp-layout-color2: #454545;\n",
       "                    background-color: #383838;\n",
       "                }\n",
       "\n",
       "                .geemap-dark .jupyter-button {\n",
       "                    --jp-layout-color3: #383838;\n",
       "                }\n",
       "\n",
       "                .geemap-colab {\n",
       "                    background-color: var(--colab-primary-surface-color, white);\n",
       "                }\n",
       "\n",
       "                .geemap-colab .jupyter-button {\n",
       "                    --jp-layout-color3: var(--colab-primary-surface-color, white);\n",
       "                }\n",
       "            </style>\n",
       "            "
      ],
      "text/plain": [
       "<IPython.core.display.HTML object>"
      ]
     },
     "metadata": {},
     "output_type": "display_data"
    }
   ],
   "source": [
    "# For each city...\n",
    "all_entries = []\n",
    "for index, row in city_hexagons.iterrows():\n",
    "    \n",
    "    # Acces its hex\n",
    "    hexagons = row.geometry\n",
    "    \n",
    "    # For each hexagon, create a shape and get relevant information\n",
    "    for i, hexagon in enumerate(hexagons):\n",
    "        # This is in lat/lon. Shapely need it in lon/lat\n",
    "        bounds = h3.cell_to_boundary(hexagon)\n",
    "        new_bounds = []\n",
    "        for bound in bounds:\n",
    "            lon = bound[1]\n",
    "            lat = bound[0]\n",
    "            new_bound = (lon, lat)\n",
    "            new_bounds.append(new_bound)\n",
    "        \n",
    "        # Creates a shapely Polygon out of the new bounds\n",
    "        poly = Polygon(new_bounds)\n",
    "        \n",
    "        # Creates an entry with extra information to save on the list\n",
    "        entry = {\n",
    "            'geometry': poly, # A shapely polygon constructed out of the H3 cell\n",
    "            'area': h3.cell_area(hexagon), # The area of the hexagon in sqm\n",
    "            'city_id': hexbinned_cities.loc[index, 'ID_HDC_G0'], # The city id\n",
    "            'hexagon_n': i # An unique number for each hexagon in a city\n",
    "        }\n",
    "        \n",
    "        all_entries.append(entry)"
   ]
  },
  {
   "cell_type": "code",
   "execution_count": 14,
   "id": "6254a49a",
   "metadata": {},
   "outputs": [
    {
     "data": {
      "text/html": [
       "\n",
       "            <style>\n",
       "                .geemap-dark {\n",
       "                    --jp-widgets-color: white;\n",
       "                    --jp-widgets-label-color: white;\n",
       "                    --jp-ui-font-color1: white;\n",
       "                    --jp-layout-color2: #454545;\n",
       "                    background-color: #383838;\n",
       "                }\n",
       "\n",
       "                .geemap-dark .jupyter-button {\n",
       "                    --jp-layout-color3: #383838;\n",
       "                }\n",
       "\n",
       "                .geemap-colab {\n",
       "                    background-color: var(--colab-primary-surface-color, white);\n",
       "                }\n",
       "\n",
       "                .geemap-colab .jupyter-button {\n",
       "                    --jp-layout-color3: var(--colab-primary-surface-color, white);\n",
       "                }\n",
       "            </style>\n",
       "            "
      ],
      "text/plain": [
       "<IPython.core.display.HTML object>"
      ]
     },
     "metadata": {},
     "output_type": "display_data"
    }
   ],
   "source": [
    "# Converts the list of dictionaries we just made into a geodataframe,\n",
    "# replacing the one with the simple city oulines.\n",
    "# This will have no CRS, as we were working with naive geometries.\n",
    "hexbinned_cities = gpd.GeoDataFrame(all_entries)"
   ]
  },
  {
   "cell_type": "code",
   "execution_count": 15,
   "id": "57e3f983",
   "metadata": {},
   "outputs": [
    {
     "data": {
      "text/html": [
       "\n",
       "            <style>\n",
       "                .geemap-dark {\n",
       "                    --jp-widgets-color: white;\n",
       "                    --jp-widgets-label-color: white;\n",
       "                    --jp-ui-font-color1: white;\n",
       "                    --jp-layout-color2: #454545;\n",
       "                    background-color: #383838;\n",
       "                }\n",
       "\n",
       "                .geemap-dark .jupyter-button {\n",
       "                    --jp-layout-color3: #383838;\n",
       "                }\n",
       "\n",
       "                .geemap-colab {\n",
       "                    background-color: var(--colab-primary-surface-color, white);\n",
       "                }\n",
       "\n",
       "                .geemap-colab .jupyter-button {\n",
       "                    --jp-layout-color3: var(--colab-primary-surface-color, white);\n",
       "                }\n",
       "            </style>\n",
       "            "
      ],
      "text/plain": [
       "<IPython.core.display.HTML object>"
      ]
     },
     "metadata": {},
     "output_type": "display_data"
    }
   ],
   "source": [
    "# Sets the results to the same crs as the city outlines\n",
    "hexbinned_cities.crs = cities.crs"
   ]
  },
  {
   "cell_type": "code",
   "execution_count": 18,
   "id": "759f4073",
   "metadata": {},
   "outputs": [
    {
     "data": {
      "text/html": [
       "\n",
       "            <style>\n",
       "                .geemap-dark {\n",
       "                    --jp-widgets-color: white;\n",
       "                    --jp-widgets-label-color: white;\n",
       "                    --jp-ui-font-color1: white;\n",
       "                    --jp-layout-color2: #454545;\n",
       "                    background-color: #383838;\n",
       "                }\n",
       "\n",
       "                .geemap-dark .jupyter-button {\n",
       "                    --jp-layout-color3: #383838;\n",
       "                }\n",
       "\n",
       "                .geemap-colab {\n",
       "                    background-color: var(--colab-primary-surface-color, white);\n",
       "                }\n",
       "\n",
       "                .geemap-colab .jupyter-button {\n",
       "                    --jp-layout-color3: var(--colab-primary-surface-color, white);\n",
       "                }\n",
       "            </style>\n",
       "            "
      ],
      "text/plain": [
       "<IPython.core.display.HTML object>"
      ]
     },
     "metadata": {},
     "output_type": "display_data"
    }
   ],
   "source": [
    "# Saves it locally.\n",
    "# under the name 'projects/dw-city-tree-coverage/assets/city_hexagons'\n",
    "dir_ = \"../output/city_hexagons\"\n",
    "if not exists(dir_):\n",
    "    makedirs(dir_)\n",
    "hexbinned_cities.to_file(f\"{dir_}/city_hexagons.shp\")"
   ]
  }
 ],
 "metadata": {
  "kernelspec": {
   "display_name": "Python 3 (ipykernel)",
   "language": "python",
   "name": "python3"
  },
  "language_info": {
   "codemirror_mode": {
    "name": "ipython",
    "version": 3
   },
   "file_extension": ".py",
   "mimetype": "text/x-python",
   "name": "python",
   "nbconvert_exporter": "python",
   "pygments_lexer": "ipython3",
   "version": "3.11.5"
  }
 },
 "nbformat": 4,
 "nbformat_minor": 5
}

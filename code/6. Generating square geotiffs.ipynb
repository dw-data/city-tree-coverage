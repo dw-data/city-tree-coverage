{
 "cells": [
  {
   "cell_type": "markdown",
   "id": "a534e743",
   "metadata": {},
   "source": [
    "# 6. Generating square geotiffs"
   ]
  },
  {
   "cell_type": "markdown",
   "id": "b83b7875",
   "metadata": {},
   "source": [
    "Now that we have selected a collection of representative squares, we can use them to filter the FeatureCollection asset we uploaded to Earth Engine earlier. With that, we will export geotiffs of all the trees that span a particular boundary."
   ]
  },
  {
   "cell_type": "code",
   "execution_count": 1,
   "id": "4e5b3fbb",
   "metadata": {},
   "outputs": [],
   "source": [
    "from datetime import datetime\n",
    "import ee\n",
    "import geemap\n",
    "import pandas as pd"
   ]
  },
  {
   "cell_type": "code",
   "execution_count": 4,
   "id": "1d5ce156",
   "metadata": {},
   "outputs": [
    {
     "data": {
      "text/html": [
       "\n",
       "            <style>\n",
       "                .geemap-dark {\n",
       "                    --jp-widgets-color: white;\n",
       "                    --jp-widgets-label-color: white;\n",
       "                    --jp-ui-font-color1: white;\n",
       "                    --jp-layout-color2: #454545;\n",
       "                    background-color: #383838;\n",
       "                }\n",
       "\n",
       "                .geemap-dark .jupyter-button {\n",
       "                    --jp-layout-color3: #383838;\n",
       "                }\n",
       "\n",
       "                .geemap-colab {\n",
       "                    background-color: var(--colab-primary-surface-color, white);\n",
       "                }\n",
       "\n",
       "                .geemap-colab .jupyter-button {\n",
       "                    --jp-layout-color3: var(--colab-primary-surface-color, white);\n",
       "                }\n",
       "            </style>\n",
       "            "
      ],
      "text/plain": [
       "<IPython.core.display.HTML object>"
      ]
     },
     "metadata": {},
     "output_type": "display_data"
    }
   ],
   "source": [
    "def run():\n",
    "    \n",
    "    # Initializes the Earth Engine instance\n",
    "    ee.Initialize(project='dw-city-tree-coverage')\n",
    "    \n",
    "    # A timestamp\n",
    "    now = datetime.now().strftime(\"%d-%m-%y-%H:%M\").replace(\":\",\"_\")\n",
    "    \n",
    "    # Loads the tree coverage information from EE, performing the same steps as in the rest of the analysis\n",
    "    tree_coverage_1m = ee.ImageCollection('projects/meta-forest-monitoring-okw37/assets/CanopyHeight').mosaic()\n",
    "    tree_coverage_10m = ee.Image('users/nlang/ETH_GlobalCanopyHeight_2020_10m_v1')\n",
    "    tree_coverage_1m = tree_coverage_1m.updateMask(tree_coverage_1m.gte(1))\n",
    "    tree_coverage_10m = tree_coverage_10m.updateMask(tree_coverage_10m.gte(1))\n",
    "    tree_coverage_mask = tree_coverage_10m.gte(1)\n",
    "    tree_coverage = tree_coverage_1m.updateMask(tree_coverage_mask)\n",
    "    \n",
    "    # Loads the squares FeatureCollection\n",
    "    squares = ee.FeatureCollection(\"projects/dw-city-tree-coverage/assets/1sqkm_squares\")\n",
    "    \n",
    "    # Reads the CSV with the squares we want to export images from.\n",
    "    city_squares = pd.read_csv(\"../output/representative-squares-most-populated.csv\")\n",
    "    \n",
    "    # Creates a single id for each square, combining city_id and hexagon_n\n",
    "    city_squares['unique_id'] = city_squares.city_id.astype(str) + \"_\" + city_squares.hexagon_n.astype(str)\n",
    "    \n",
    "    # Does the same for the Feature Collection\n",
    "    squares = squares.map(lambda feature: feature.set({\n",
    "        \"unique_id\": ee.String(feature.get('city_id')).cat(\"_\").cat(ee.String(feature.get('hexagon_n'))),\n",
    "        \n",
    "    }))\n",
    "    \n",
    "    # A function that will export all the squares listed in the CSV\n",
    "    def export_images(df, type_):\n",
    "        \n",
    "        # For each row in the dataframe, select the desired polygon and export it\n",
    "        for index, row in df.iterrows():\n",
    "\n",
    "            # Gets information for the file name\n",
    "            city_id = row.city_id\n",
    "            hexagon_n = row.hexagon_n\n",
    "            unique_id = row.unique_id\n",
    "\n",
    "            # Makes up the file name. We will later split that string and extract the information\n",
    "            # to join it back with the CSV files generated earlier.\n",
    "            description = f\"ImageSquare{type_}_{city_id}_{hexagon_n}_{now}\"\n",
    "\n",
    "            # Selects the relevant square geometry by filtering all the squares\n",
    "            aoi = squares.filter(ee.Filter.eq('unique_id', unique_id)).first().geometry()\n",
    "\n",
    "            #Exports\n",
    "            geemap.ee_export_image_to_drive(\n",
    "                tree_coverage, \n",
    "                description=description, \n",
    "                folder=\"DWTreeCoverage-2024-09-24\", \n",
    "                region=aoi, \n",
    "                scale=1\n",
    "            )\n",
    "\n",
    "    export_images(city_squares, 'WholeCity')\n",
    "   #export_images(bin_squares, 'BinLevels')"
   ]
  },
  {
   "cell_type": "code",
   "execution_count": 5,
   "id": "d196c1b9",
   "metadata": {},
   "outputs": [
    {
     "data": {
      "text/html": [
       "\n",
       "            <style>\n",
       "                .geemap-dark {\n",
       "                    --jp-widgets-color: white;\n",
       "                    --jp-widgets-label-color: white;\n",
       "                    --jp-ui-font-color1: white;\n",
       "                    --jp-layout-color2: #454545;\n",
       "                    background-color: #383838;\n",
       "                }\n",
       "\n",
       "                .geemap-dark .jupyter-button {\n",
       "                    --jp-layout-color3: #383838;\n",
       "                }\n",
       "\n",
       "                .geemap-colab {\n",
       "                    background-color: var(--colab-primary-surface-color, white);\n",
       "                }\n",
       "\n",
       "                .geemap-colab .jupyter-button {\n",
       "                    --jp-layout-color3: var(--colab-primary-surface-color, white);\n",
       "                }\n",
       "            </style>\n",
       "            "
      ],
      "text/plain": [
       "<IPython.core.display.HTML object>"
      ]
     },
     "metadata": {},
     "output_type": "display_data"
    }
   ],
   "source": [
    "run()"
   ]
  }
 ],
 "metadata": {
  "kernelspec": {
   "display_name": "Python 3 (ipykernel)",
   "language": "python",
   "name": "python3"
  },
  "language_info": {
   "codemirror_mode": {
    "name": "ipython",
    "version": 3
   },
   "file_extension": ".py",
   "mimetype": "text/x-python",
   "name": "python",
   "nbconvert_exporter": "python",
   "pygments_lexer": "ipython3",
   "version": "3.11.5"
  }
 },
 "nbformat": 4,
 "nbformat_minor": 5
}

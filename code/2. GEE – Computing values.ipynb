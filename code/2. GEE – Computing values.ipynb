{
 "cells": [
  {
   "cell_type": "markdown",
   "id": "e5c81523",
   "metadata": {},
   "source": [
    "# 2. GEE – Computing city and hexagon tree coverage"
   ]
  },
  {
   "cell_type": "markdown",
   "id": "26d85c1d",
   "metadata": {},
   "source": [
    "In this notebook, we will use Python to query Google Earth Engine and compute the share of each city outline that is covered by trees. The same will be done for each hexagon.\n",
    "\n",
    "In the process, we will be using the city outlines that we computed earlier and two raster datasets that display the height of the tree canopy in the entire planet, allowing us to look only at vegetation with more than 1m of height.\n",
    "\n",
    "The [first](https://www.nature.com/articles/s41559-023-02206-6) was made by researchers from four universities: ETH Zurich, Yale University, University of Copenhagen and University of Zurich (_Lang, N. et. al._) It has a 10m resolution.\n",
    "\n",
    "It was combined with [another one](https://sustainability.atmeta.com/blog/2024/04/22/using-artificial-intelligence-to-map-the-earths-forests/), by researchers at Meta and the World Resources Institute, with a finer 1m resolution.\n",
    "\n",
    "We decided to combine both to reduce the incidence of false positives, which we detected on both datasets upon manual inspection of selected cities. \n",
    "\n",
    "The first datasetn detected trees in the waves formed on the surface of urban bodys of water, such as lagoons and havens. This happened, for example, in Lagos (Nigeria).\n",
    "\n",
    "Meta's model often detected trees in high-density urban developments in places like São Paulo (Brazil) and New Delhi (India).\n",
    "\n",
    "Another caveat is that the datasets don't show all the trees that exist at the same moment of time. They use a mosaic of satellite imagery taken at different times. The first dataset spans the year 2020, while the later mostly consists of images taken from 2018 to 2020."
   ]
  },
  {
   "cell_type": "code",
   "execution_count": 1,
   "id": "2dd64c48",
   "metadata": {},
   "outputs": [],
   "source": [
    "# Import packages\n",
    "from datetime import datetime\n",
    "import ee\n",
    "import geemap"
   ]
  },
  {
   "cell_type": "code",
   "execution_count": 2,
   "id": "ebc9cdc3",
   "metadata": {},
   "outputs": [
    {
     "data": {
      "text/html": [
       "\n",
       "            <style>\n",
       "                .geemap-dark {\n",
       "                    --jp-widgets-color: white;\n",
       "                    --jp-widgets-label-color: white;\n",
       "                    --jp-ui-font-color1: white;\n",
       "                    --jp-layout-color2: #454545;\n",
       "                    background-color: #383838;\n",
       "                }\n",
       "\n",
       "                .geemap-dark .jupyter-button {\n",
       "                    --jp-layout-color3: #383838;\n",
       "                }\n",
       "\n",
       "                .geemap-colab {\n",
       "                    background-color: var(--colab-primary-surface-color, white);\n",
       "                }\n",
       "\n",
       "                .geemap-colab .jupyter-button {\n",
       "                    --jp-layout-color3: var(--colab-primary-surface-color, white);\n",
       "                }\n",
       "            </style>\n",
       "            "
      ],
      "text/plain": [
       "<IPython.core.display.HTML object>"
      ]
     },
     "metadata": {},
     "output_type": "display_data"
    }
   ],
   "source": [
    "# The main function, which submits a Google Earth Engine task.\n",
    "# The task will save a CSV with the desired information on Google Drive.\n",
    "def main():\n",
    "    \n",
    "    # Initializes an Earth Engine instance.\n",
    "    # When you run this for the first time, a browser window will prompt you to login with Google\n",
    "    ee.Initialize()\n",
    "    \n",
    "    # Initializes a map widget, so we can see if the actions make sense in the end\n",
    "    Map = geemap.Map(height='540px')\n",
    "    \n",
    "    # A timestamp for rudimentary version control – useful when you are still\n",
    "    # tweaking the function and want to know which file was outputted by the latest script.\n",
    "    now = datetime.now().strftime(\"%d-%m-%y-%H:%M\").replace(\":\",\"_\")\n",
    "    \n",
    "    # Loads the shpafiles genereated at the previous notebook, which were\n",
    "    # already uploaded to our project via the code editor\n",
    "    cities = ee.FeatureCollection('projects/dw-city-tree-coverage/assets/city_outlines')\n",
    "    hexagons = ee.FeatureCollection(\"projects/dw-city-tree-coverage/assets/city_hexagons\")\n",
    "    \n",
    "    # Loads the aforementioned images from GEE's public library.\n",
    "    tree_coverage_1m = ee.ImageCollection('projects/meta-forest-monitoring-okw37/assets/CanopyHeight').mosaic()\n",
    "    tree_coverage_10m = ee.Image('users/nlang/ETH_GlobalCanopyHeight_2020_10m_v1')\n",
    "    \n",
    "    # In both datasets, keep only areas with tree coverage greater than or equal to 1m\n",
    "    tree_coverage_1m = tree_coverage_1m.updateMask(tree_coverage_1m.gte(1))\n",
    "    tree_coverage_10m = tree_coverage_10m.updateMask(tree_coverage_10m.gte(1))\n",
    "    \n",
    "    # Creates a combined tree coverage image. It will keep only the tree coverage on the 1m resolution\n",
    "    # dataset that matches forested areas in the 10m resolution dataset.\n",
    "    tree_coverage_mask = tree_coverage_10m.gte(1)\n",
    "    tree_coverage = tree_coverage_1m.updateMask(tree_coverage_mask)\n",
    "    \n",
    "    # Adds a population dataset, also from GHSL\n",
    "    population = ee.Image('JRC/GHSL/P2023A/GHS_POP/2020')\n",
    "\n",
    "    # Creates a Pixel Area object. This is used by Google Earth Engine\n",
    "    # to quickly compute the area of raster images. We can apply masks\n",
    "    # and multply them to the pixel image in order to compute total area coverage.\n",
    "    pixel_area = ee.Image.pixelArea()\n",
    "    \n",
    "    # The function below is defined within main so it can access all the variables\n",
    "    # in this scope. This is importante because it needs to access 'pixel_area', \n",
    "    # 'population' and 'tree_coverage' while being mapped using lambda. This weird construction\n",
    "    # is due to my geemap inexperience. I couldn't find a more elegant way of doing it.\n",
    "    def process(feature):\n",
    "        \n",
    "        # Computes basic polygon elements\n",
    "        ft_area = feature.geometry().area()\n",
    "        centroid = feature.geometry().centroid().coordinates()\n",
    "        lon = centroid.get(0)\n",
    "        lat = centroid.get(1)\n",
    "        \n",
    "        # Multiply the masked tree coverage by the area of the corresponding pixel\n",
    "        # in the pixel area object.\n",
    "        # Pixels with trees smaller than 1 are False (0). 0 * area == 0, so they end up ignored\n",
    "        # Alternatively, pixels greater or equal to 1 are True (1). 1 * area == area, so they end up counted.\n",
    "        tree_area_image = tree_coverage.gte(1).multiply(pixel_area)\n",
    "        \n",
    "        # Now that we have an image in which each pixel has either 0 (when there are no trees)\n",
    "        # or its respective area, when there are trees, we can simpyl reduce them.\n",
    "        # We will use a sum reducer over the selected feature. This means that we will sum\n",
    "        # all the pixels that fall within the bounds of this particular geometry.\n",
    "        tree_area = tree_area_image.reduceRegion( # Take the data on the tree_are_image computed above\n",
    "            reducer = ee.Reducer.sum(), # We want to sum all the values within the geometry\n",
    "            geometry = feature.geometry(), # The geometry is the feature this function is being applied to\n",
    "            scale = 1, # Scale of tree coverage image (1 sqm)\n",
    "            maxPixels = 1e12 # Raises an error if we get too many pixels (> 1 billion)\n",
    "        ).get('cover_code') # Gets the band name 'cover_code' (which came from Meta's dataset)\n",
    "        \n",
    "        # We will also compute the population. This is useful for the hexagons, but will also\n",
    "        # be applied to the entire city areas for convenience. The computational cost isn't\n",
    "        # prohibitive, and it's better to do all the processing within a single funcion.\n",
    "        pop_ft = population.reduceRegion( # Take the data on the population image (each pixel has an estimate of the people living over it)\n",
    "            reducer = ee.Reducer.sum(), # We want to sum all the pixels\n",
    "            geometry = feature.geometry(), # That fall within the geometry\n",
    "            scale = 100, # At the scale of GHSL data (100sqm)\n",
    "            maxPixels = 1e12,\n",
    "        ).get('population_count') # Name of band in original data\n",
    "        \n",
    "        # Returning the desired elements as a new feature\n",
    "        return feature.set({\n",
    "            'centroid': centroid,\n",
    "            'lon': lon,\n",
    "            'lat': lat,\n",
    "            'ft_area': ft_area,\n",
    "            'tree_area': tree_area,\n",
    "            'tree_pct': ee.Number(tree_area).divide(ee.Number(ft_area)), # Uses earth engine Number to divide server side\n",
    "            'pop_ft': pop_ft\n",
    "        })\n",
    "    \n",
    "    # Applies the function to the cities\n",
    "    city_results = cities.map(lambda feature: process(feature))\n",
    "\n",
    "    # And then to the hexagons\n",
    "    hexagon_results = hexagons.map(lambda feature: process(feature))\n",
    "    \n",
    "    # Export the results as a CSV file\n",
    "    geemap.ee_export_vector_to_drive(\n",
    "        collection = city_results,\n",
    "        folder =  'DWTreeCoverAnalysis',\n",
    "        description = f'TreeCoverAnalysis-Cities-{now}',\n",
    "        fileFormat = 'CSV',\n",
    "        selectors = ['ID_HDC_G0',\n",
    "                     'lon', 'lat', \n",
    "                     'tree_area', 'ft_area', 'tree_pct', 'pop_ft']\n",
    "    )\n",
    "    \n",
    "    geemap.ee_export_vector_to_drive(\n",
    "        collection = hexagon_results,\n",
    "        folder =  'DWTreeCoverAnalysis',\n",
    "        description = f'TreeCoverAnalysis-Hexagons-{now}',\n",
    "        fileFormat = 'CSV',\n",
    "        selectors = ['city_id', 'hexagon_n',\n",
    "                     'lon', 'lat', \n",
    "                     'tree_area', 'ft_area', 'tree_pct', 'pop_ft']\n",
    "    )\n",
    " \n",
    "    # Adds each of the images to the Map, so we can see if its behaving like expected.\n",
    "    Map.addLayer(cities, {'color': 'gray'}, 'City Polygons')\n",
    "    Map.addLayer(hexagons, {'color': 'red'}, 'Hexagons')\n",
    "    Map.addLayer(tree_coverage_1m, {'palette': '#AAFF00'}, 'Meta – 1m tree coverage (>= 1m height)')\n",
    "    Map.addLayer(tree_coverage_10m, {'palette': '#088F8F'}, 'Lang, N. et. al. – 10m tree coverage (>= 1m height)')\n",
    "    Map.addLayer(tree_coverage, {'palette': '#454B1B'}, 'Combined – tree coverage (>= 1m height)')\n",
    "    Map.addLayer(population, {'palette': ['white', 'purple']}, 'Population')\n",
    "\n",
    "    \n",
    "    return Map"
   ]
  },
  {
   "cell_type": "code",
   "execution_count": 3,
   "id": "899b5af3",
   "metadata": {},
   "outputs": [
    {
     "data": {
      "text/html": [
       "\n",
       "            <style>\n",
       "                .geemap-dark {\n",
       "                    --jp-widgets-color: white;\n",
       "                    --jp-widgets-label-color: white;\n",
       "                    --jp-ui-font-color1: white;\n",
       "                    --jp-layout-color2: #454545;\n",
       "                    background-color: #383838;\n",
       "                }\n",
       "\n",
       "                .geemap-dark .jupyter-button {\n",
       "                    --jp-layout-color3: #383838;\n",
       "                }\n",
       "\n",
       "                .geemap-colab {\n",
       "                    background-color: var(--colab-primary-surface-color, white);\n",
       "                }\n",
       "\n",
       "                .geemap-colab .jupyter-button {\n",
       "                    --jp-layout-color3: var(--colab-primary-surface-color, white);\n",
       "                }\n",
       "            </style>\n",
       "            "
      ],
      "text/plain": [
       "<IPython.core.display.HTML object>"
      ]
     },
     "metadata": {},
     "output_type": "display_data"
    },
    {
     "name": "stdout",
     "output_type": "stream",
     "text": [
      "Exporting TreeCoverAnalysis-Cities-27-08-24-08_32... Please check the Task Manager from the JavaScript Code Editor.\n",
      "Exporting TreeCoverAnalysis-Hexagons-27-08-24-08_32... Please check the Task Manager from the JavaScript Code Editor.\n"
     ]
    }
   ],
   "source": [
    "if __name__ == \"__main__\":\n",
    "    Map = main()"
   ]
  },
  {
   "cell_type": "code",
   "execution_count": 4,
   "id": "e186c0a1",
   "metadata": {},
   "outputs": [
    {
     "name": "stderr",
     "output_type": "stream",
     "text": [
      "No such comm: 148116daaa364b72b97abc32156e501f\n",
      "No such comm: 148116daaa364b72b97abc32156e501f\n",
      "No such comm: 148116daaa364b72b97abc32156e501f\n",
      "No such comm: 148116daaa364b72b97abc32156e501f\n",
      "No such comm: 148116daaa364b72b97abc32156e501f\n",
      "No such comm: 148116daaa364b72b97abc32156e501f\n",
      "No such comm: 148116daaa364b72b97abc32156e501f\n",
      "No such comm: 148116daaa364b72b97abc32156e501f\n",
      "No such comm: 148116daaa364b72b97abc32156e501f\n",
      "No such comm: 148116daaa364b72b97abc32156e501f\n",
      "No such comm: 148116daaa364b72b97abc32156e501f\n",
      "No such comm: 148116daaa364b72b97abc32156e501f\n",
      "No such comm: 148116daaa364b72b97abc32156e501f\n",
      "No such comm: 148116daaa364b72b97abc32156e501f\n",
      "No such comm: 148116daaa364b72b97abc32156e501f\n",
      "No such comm: 148116daaa364b72b97abc32156e501f\n",
      "No such comm: 148116daaa364b72b97abc32156e501f\n",
      "No such comm: 148116daaa364b72b97abc32156e501f\n",
      "No such comm: 148116daaa364b72b97abc32156e501f\n",
      "No such comm: 148116daaa364b72b97abc32156e501f\n",
      "No such comm: 148116daaa364b72b97abc32156e501f\n",
      "No such comm: 148116daaa364b72b97abc32156e501f\n",
      "No such comm: 148116daaa364b72b97abc32156e501f\n",
      "No such comm: 148116daaa364b72b97abc32156e501f\n",
      "No such comm: 148116daaa364b72b97abc32156e501f\n"
     ]
    },
    {
     "data": {
      "text/html": [
       "\n",
       "            <style>\n",
       "                .geemap-dark {\n",
       "                    --jp-widgets-color: white;\n",
       "                    --jp-widgets-label-color: white;\n",
       "                    --jp-ui-font-color1: white;\n",
       "                    --jp-layout-color2: #454545;\n",
       "                    background-color: #383838;\n",
       "                }\n",
       "\n",
       "                .geemap-dark .jupyter-button {\n",
       "                    --jp-layout-color3: #383838;\n",
       "                }\n",
       "\n",
       "                .geemap-colab {\n",
       "                    background-color: var(--colab-primary-surface-color, white);\n",
       "                }\n",
       "\n",
       "                .geemap-colab .jupyter-button {\n",
       "                    --jp-layout-color3: var(--colab-primary-surface-color, white);\n",
       "                }\n",
       "            </style>\n",
       "            "
      ],
      "text/plain": [
       "<IPython.core.display.HTML object>"
      ]
     },
     "metadata": {},
     "output_type": "display_data"
    },
    {
     "data": {
      "application/vnd.jupyter.widget-view+json": {
       "model_id": "a0b30bd31004421a907c4b38e2237423",
       "version_major": 2,
       "version_minor": 0
      },
      "text/plain": [
       "Map(center=[0, 0], controls=(WidgetControl(options=['position', 'transparent_bg'], widget=SearchDataGUI(childr…"
      ]
     },
     "execution_count": 4,
     "metadata": {},
     "output_type": "execute_result"
    },
    {
     "name": "stderr",
     "output_type": "stream",
     "text": [
      "No such comm: 846f3d02db524c3dafa2456eba7a33fe\n",
      "No such comm: cf703d6cf9a647ccb4f10848016cd884\n",
      "No such comm: 8a2d7b1d095b4b46b96d31622037f182\n",
      "No such comm: b13c3d2e5fa84bfaa044b9a75420d859\n",
      "No such comm: f18610f3ec154f3b9c631633857221eb\n",
      "No such comm: 4963b60d90a3481ab8ccad72d1757ba9\n",
      "No such comm: 32e748b187ef43a08723132f29702889\n"
     ]
    }
   ],
   "source": [
    "Map"
   ]
  }
 ],
 "metadata": {
  "kernelspec": {
   "display_name": "Python 3 (ipykernel)",
   "language": "python",
   "name": "python3"
  },
  "language_info": {
   "codemirror_mode": {
    "name": "ipython",
    "version": 3
   },
   "file_extension": ".py",
   "mimetype": "text/x-python",
   "name": "python",
   "nbconvert_exporter": "python",
   "pygments_lexer": "ipython3",
   "version": "3.11.5"
  }
 },
 "nbformat": 4,
 "nbformat_minor": 5
}

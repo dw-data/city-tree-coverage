{
 "cells": [
  {
   "cell_type": "markdown",
   "id": "405e38f9",
   "metadata": {},
   "source": [
    "# 7. Preparing Excel file"
   ]
  },
  {
   "cell_type": "markdown",
   "id": "3eeefac1",
   "metadata": {},
   "source": [
    "In this script, we will prepare a pivoted Excel file with the results for key cities.\n",
    "This will be used by other reporters and editors to find interesting patterns in the data."
   ]
  },
  {
   "cell_type": "code",
   "execution_count": 162,
   "id": "2975d742",
   "metadata": {},
   "outputs": [],
   "source": [
    "import geopandas as gpd\n",
    "import pandas as pd"
   ]
  },
  {
   "cell_type": "code",
   "execution_count": 163,
   "id": "595a43a1",
   "metadata": {},
   "outputs": [],
   "source": [
    "# Loads city data to re-add extra inormation\n",
    "cities = gpd.read_file(\"../input/GHS_STAT_UCDB2015MT_GLOBE_R2019A/GHS_STAT_UCDB2015MT_GLOBE_R2019A_V1_2.gpkg\")"
   ]
  },
  {
   "cell_type": "code",
   "execution_count": 164,
   "id": "449cd04f",
   "metadata": {},
   "outputs": [],
   "source": [
    "#  Keep only the desired columns\n",
    "cities = cities[['ID_HDC_G0', 'UC_NM_MN', 'UC_NM_LST', 'CTR_MN_NM', 'CTR_MN_ISO',\n",
    "                 'AREA', 'P15', 'E_KG_NM_LST', 'E_BM_NM_LST']]"
   ]
  },
  {
   "cell_type": "code",
   "execution_count": 165,
   "id": "48327b26",
   "metadata": {},
   "outputs": [],
   "source": [
    "# Also load the extra regional information\n",
    "info = pd.read_csv(\"../input/country_classifications/country-and-continent-codes-list.csv\", sep=\";\")"
   ]
  },
  {
   "cell_type": "code",
   "execution_count": 166,
   "id": "461171af",
   "metadata": {},
   "outputs": [],
   "source": [
    "# Keeps only the desired columns\n",
    "info = info[['continent', 'region', 'subregion', 'ISO-alpha3 code']]"
   ]
  },
  {
   "cell_type": "code",
   "execution_count": 179,
   "id": "fca773b8",
   "metadata": {},
   "outputs": [],
   "source": [
    "# Gets hexbin data\n",
    "hexbins = pd.read_csv(\"../output/population-by-tree-coverage-bin.csv\")"
   ]
  },
  {
   "cell_type": "code",
   "execution_count": 180,
   "id": "16276531",
   "metadata": {},
   "outputs": [
    {
     "data": {
      "text/html": [
       "<div>\n",
       "<style scoped>\n",
       "    .dataframe tbody tr th:only-of-type {\n",
       "        vertical-align: middle;\n",
       "    }\n",
       "\n",
       "    .dataframe tbody tr th {\n",
       "        vertical-align: top;\n",
       "    }\n",
       "\n",
       "    .dataframe thead th {\n",
       "        text-align: right;\n",
       "    }\n",
       "</style>\n",
       "<table border=\"1\" class=\"dataframe\">\n",
       "  <thead>\n",
       "    <tr style=\"text-align: right;\">\n",
       "      <th></th>\n",
       "      <th>city_id</th>\n",
       "      <th>tr_pct_bin</th>\n",
       "      <th>pop_ft</th>\n",
       "      <th>pop_ft_pct</th>\n",
       "      <th>UC_NM_MN</th>\n",
       "      <th>CTR_MN_NM</th>\n",
       "      <th>CTR_MN_ISO</th>\n",
       "      <th>continent</th>\n",
       "      <th>INCM_CMI</th>\n",
       "    </tr>\n",
       "  </thead>\n",
       "  <tbody>\n",
       "    <tr>\n",
       "      <th>0</th>\n",
       "      <td>10.0</td>\n",
       "      <td>[0.0, 0.02)</td>\n",
       "      <td>535863.397407</td>\n",
       "      <td>0.113691</td>\n",
       "      <td>San Jose</td>\n",
       "      <td>United States</td>\n",
       "      <td>USA</td>\n",
       "      <td>Americas</td>\n",
       "      <td>HIC</td>\n",
       "    </tr>\n",
       "    <tr>\n",
       "      <th>1</th>\n",
       "      <td>10.0</td>\n",
       "      <td>[0.02, 0.04)</td>\n",
       "      <td>696202.730230</td>\n",
       "      <td>0.147709</td>\n",
       "      <td>San Jose</td>\n",
       "      <td>United States</td>\n",
       "      <td>USA</td>\n",
       "      <td>Americas</td>\n",
       "      <td>HIC</td>\n",
       "    </tr>\n",
       "    <tr>\n",
       "      <th>2</th>\n",
       "      <td>10.0</td>\n",
       "      <td>[0.04, 0.06)</td>\n",
       "      <td>757926.919928</td>\n",
       "      <td>0.160805</td>\n",
       "      <td>San Jose</td>\n",
       "      <td>United States</td>\n",
       "      <td>USA</td>\n",
       "      <td>Americas</td>\n",
       "      <td>HIC</td>\n",
       "    </tr>\n",
       "    <tr>\n",
       "      <th>3</th>\n",
       "      <td>10.0</td>\n",
       "      <td>[0.06, 0.08)</td>\n",
       "      <td>617455.151767</td>\n",
       "      <td>0.131002</td>\n",
       "      <td>San Jose</td>\n",
       "      <td>United States</td>\n",
       "      <td>USA</td>\n",
       "      <td>Americas</td>\n",
       "      <td>HIC</td>\n",
       "    </tr>\n",
       "    <tr>\n",
       "      <th>4</th>\n",
       "      <td>10.0</td>\n",
       "      <td>[0.08, 0.1)</td>\n",
       "      <td>467465.030952</td>\n",
       "      <td>0.099179</td>\n",
       "      <td>San Jose</td>\n",
       "      <td>United States</td>\n",
       "      <td>USA</td>\n",
       "      <td>Americas</td>\n",
       "      <td>HIC</td>\n",
       "    </tr>\n",
       "  </tbody>\n",
       "</table>\n",
       "</div>"
      ],
      "text/plain": [
       "   city_id    tr_pct_bin         pop_ft  pop_ft_pct  UC_NM_MN      CTR_MN_NM   \n",
       "0     10.0   [0.0, 0.02)  535863.397407    0.113691  San Jose  United States  \\\n",
       "1     10.0  [0.02, 0.04)  696202.730230    0.147709  San Jose  United States   \n",
       "2     10.0  [0.04, 0.06)  757926.919928    0.160805  San Jose  United States   \n",
       "3     10.0  [0.06, 0.08)  617455.151767    0.131002  San Jose  United States   \n",
       "4     10.0   [0.08, 0.1)  467465.030952    0.099179  San Jose  United States   \n",
       "\n",
       "  CTR_MN_ISO continent INCM_CMI  \n",
       "0        USA  Americas      HIC  \n",
       "1        USA  Americas      HIC  \n",
       "2        USA  Americas      HIC  \n",
       "3        USA  Americas      HIC  \n",
       "4        USA  Americas      HIC  "
      ]
     },
     "execution_count": 180,
     "metadata": {},
     "output_type": "execute_result"
    }
   ],
   "source": [
    "hexbins.head()"
   ]
  },
  {
   "cell_type": "code",
   "execution_count": 193,
   "id": "573dac9a",
   "metadata": {},
   "outputs": [],
   "source": [
    "# Adds information back to the hexbins\n",
    "hexbins = hexbins.merge(cities, left_on='city_id', right_on='ID_HDC_G0', suffixes=('','_y'))\\\n",
    "       .merge(info, left_on='CTR_MN_ISO', right_on='ISO-alpha3 code', suffixes=('','_y'))\n",
    "hexbins = hexbins.drop(columns=[col for col in hexbins.columns if '_y' in col ])"
   ]
  },
  {
   "cell_type": "code",
   "execution_count": 194,
   "id": "15c63e9e",
   "metadata": {},
   "outputs": [],
   "source": [
    "# Creates a pivot table\n",
    "distributions = hexbins.pivot(index='city_id', columns='tr_pct_bin', values='pop_ft_pct').reset_index().fillna(0).round(3)"
   ]
  },
  {
   "cell_type": "code",
   "execution_count": 195,
   "id": "d22e6f8f",
   "metadata": {},
   "outputs": [],
   "source": [
    "# Rename columns so it's more friendly\n",
    "def interval_to_string(interval):\n",
    "    start = float(interval.split(',')[0][1:]) * 100\n",
    "    end = float(interval.split(',')[1][:-1]) * 100\n",
    "    return f\"{round(start)}% – {round(end)}%\"\n",
    "\n",
    "# Apply the function to the column\n",
    "distributions = distributions.rename(columns={ colname: interval_to_string(colname) for colname in distributions.columns[1:] })\n"
   ]
  },
  {
   "cell_type": "code",
   "execution_count": 196,
   "id": "89e64231",
   "metadata": {},
   "outputs": [],
   "source": [
    "# Gets the most common bin\n",
    "# All rows (:)\n",
    "# Starting from the column with name '0% – 2%' ('0% – 2%':)\n",
    "distributions['most_common'] = distributions.loc[:, '0% – 2%':].idxmax(axis=1)"
   ]
  },
  {
   "cell_type": "code",
   "execution_count": 197,
   "id": "b8ab6de5",
   "metadata": {},
   "outputs": [],
   "source": [
    "# Gets the lower bound of the most common place by splitting the resulting string\n",
    "# and then getting the first element. Removes the % sign and casts as int.\n",
    "distributions['most_common_lower_bound'] = distributions.most_common.str.split('–')\\\n",
    "                                              .apply(lambda x: int(x[0].strip().split('%')[0]))"
   ]
  },
  {
   "cell_type": "code",
   "execution_count": 198,
   "id": "8f6757d0",
   "metadata": {},
   "outputs": [],
   "source": [
    "# Joins back the infomrative columns\n",
    "distributions = distributions.merge(hexbins, on='city_id').drop_duplicates(subset='city_id')\\\n",
    "    .drop(['tr_pct_bin', 'pop_ft', 'pop_ft_pct', 'ID_HDC_G0'], axis=1)"
   ]
  },
  {
   "cell_type": "code",
   "execution_count": 200,
   "id": "de1d7fd9",
   "metadata": {},
   "outputs": [
    {
     "data": {
      "text/plain": [
       "Index(['city_id', '0% – 2%', '2% – 4%', '4% – 6%', '6% – 8%', '8% – 10%',\n",
       "       '10% – 12%', '12% – 14%', '14% – 16%', '16% – 18%', '18% – 20%',\n",
       "       '20% – 22%', '22% – 24%', '24% – 26%', '26% – 28%', '28% – 30%',\n",
       "       '30% – 32%', '32% – 34%', '34% – 36%', '36% – 38%', '38% – 40%',\n",
       "       '40% – 42%', '42% – 44%', '44% – 46%', '46% – 48%', '48% – 50%',\n",
       "       '50% – 52%', '52% – 54%', '54% – 56%', '56% – 58%', '58% – 60%',\n",
       "       '60% – 62%', '62% – 64%', '64% – 66%', '66% – 68%', '68% – 70%',\n",
       "       '70% – 72%', '72% – 74%', '74% – 76%', '76% – 78%', '78% – 80%',\n",
       "       '80% – 82%', '82% – 84%', '84% – 86%', '86% – 88%', '88% – 90%',\n",
       "       '90% – 92%', '92% – 94%', '94% – 96%', '96% – 98%', '98% – 100%',\n",
       "       'most_common', 'most_common_lower_bound', 'UC_NM_MN', 'CTR_MN_NM',\n",
       "       'CTR_MN_ISO', 'continent', 'INCM_CMI', 'ID_HDC_G0', 'UC_NM_LST', 'AREA',\n",
       "       'P15', 'E_KG_NM_LST', 'E_BM_NM_LST', 'region', 'subregion',\n",
       "       'ISO-alpha3 code'],\n",
       "      dtype='object')"
      ]
     },
     "execution_count": 200,
     "metadata": {},
     "output_type": "execute_result"
    }
   ],
   "source": [
    "# Renames and orders so it's more friendly\n",
    "distributions.columns"
   ]
  },
  {
   "cell_type": "code",
   "execution_count": 205,
   "id": "76a59fc2",
   "metadata": {},
   "outputs": [],
   "source": [
    "distributions = distributions.rename(columns={\n",
    "    \"city_id\": \"City unique id\",\n",
    "    \"most_common\": \"Most people live in areas with _% tree coverage\",\n",
    "    \"most_common_lower_bound\": \"Most people live in areas with _% tree coverage (lower bound, use for sorting)\",\n",
    "    \"UC_NM_MN\": \"Main city name\",\n",
    "    \"UC_NM_LST\": \"Cities in area\",\n",
    "    \"CTR_MN_NM\": \"Main country name\",\n",
    "    \"CTR_MN_ISO\": \"Main country ISO3 code\",\n",
    "    \"continent\": \"Continent\",\n",
    "    \"region\": \"Region\",\n",
    "    \"subregion\": \"Subregion\",\n",
    "    \"INCM_CMI\": \"Income level of country\",\n",
    "    \"AREA\": \"Area in square kms\",\n",
    "    \"P15\": \"Population estimate (2015, satellite model)\",\n",
    "    \"E_KG_NM_LST\": \"List of climates (Köppen-Geiger)\",\n",
    "    \"E_BM_NM_LST\": \"List of biomes (WWF)\"\n",
    "})"
   ]
  },
  {
   "cell_type": "code",
   "execution_count": 212,
   "id": "ad710d96",
   "metadata": {},
   "outputs": [],
   "source": [
    "# Reorder columns\n",
    "distributions = distributions[\n",
    "    [\n",
    "           'City unique id',\n",
    "           'Main city name', 'Cities in area', 'Main country name', 'Main country ISO3 code',\n",
    "           'Continent','Region', 'Subregion', \n",
    "           'Income level of country',\n",
    "           'Area in square kms', 'Population estimate (2015, satellite model)',\n",
    "           'List of climates (Köppen-Geiger)', 'List of biomes (WWF)',\n",
    "            'Most people live in areas with _% tree coverage',\n",
    "           'Most people live in areas with _% tree coverage (lower bound, use for sorting)',\n",
    "            '0% – 2%', '2% – 4%', '4% – 6%', '6% – 8%',\n",
    "           '8% – 10%', '10% – 12%', '12% – 14%', '14% – 16%', '16% – 18%',\n",
    "           '18% – 20%', '20% – 22%', '22% – 24%', '24% – 26%', '26% – 28%',\n",
    "           '28% – 30%', '30% – 32%', '32% – 34%', '34% – 36%', '36% – 38%',\n",
    "           '38% – 40%', '40% – 42%', '42% – 44%', '44% – 46%', '46% – 48%',\n",
    "           '48% – 50%', '50% – 52%', '52% – 54%', '54% – 56%', '56% – 58%',\n",
    "           '58% – 60%', '60% – 62%', '62% – 64%', '64% – 66%', '66% – 68%',\n",
    "           '68% – 70%', '70% – 72%', '72% – 74%', '74% – 76%', '76% – 78%',\n",
    "           '78% – 80%', '80% – 82%', '82% – 84%', '84% – 86%', '86% – 88%',\n",
    "           '88% – 90%', '90% – 92%', '92% – 94%', '94% – 96%', '96% – 98%',\n",
    "           '98% – 100%'\n",
    "    ]\n",
    "]"
   ]
  },
  {
   "cell_type": "code",
   "execution_count": 213,
   "id": "5c00c132",
   "metadata": {},
   "outputs": [],
   "source": [
    "# Saves as Excel\n",
    "distributions.to_excel(\"../output/Population distribution in major cities.xlsx\")"
   ]
  },
  {
   "cell_type": "code",
   "execution_count": null,
   "id": "a41d3b78",
   "metadata": {},
   "outputs": [],
   "source": []
  }
 ],
 "metadata": {
  "kernelspec": {
   "display_name": "Python 3 (ipykernel)",
   "language": "python",
   "name": "python3"
  },
  "language_info": {
   "codemirror_mode": {
    "name": "ipython",
    "version": 3
   },
   "file_extension": ".py",
   "mimetype": "text/x-python",
   "name": "python",
   "nbconvert_exporter": "python",
   "pygments_lexer": "ipython3",
   "version": "3.11.5"
  }
 },
 "nbformat": 4,
 "nbformat_minor": 5
}

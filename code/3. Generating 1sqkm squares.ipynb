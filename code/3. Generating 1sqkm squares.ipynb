{
 "cells": [
  {
   "cell_type": "markdown",
   "id": "3c6079ed",
   "metadata": {},
   "source": [
    "# 3. Generating 1sqkm squares"
   ]
  },
  {
   "cell_type": "markdown",
   "id": "d0d3f822",
   "metadata": {},
   "source": [
    "The hexagons we generated on the previous steps might be useful for data analysis and for plotting maps, but we also want to highlight specific places. For those, it would be weird to show an arbitrary shape such as this. To overcome this,  we will generate squares that are associated with each of the hexagons, albeit with slightly different tree coverage values and some degree of overlap.\n",
    "\n",
    "This way, when plotting those satellite images, we can give an idea of how a 25% tree-coverage area looks like, while using a shape that won't confuse readers as much.\n",
    "\n",
    "Please notice that this can't be used for any kind of analysis, as the squares will overlap significantly. It's useful for visualization purposes only."
   ]
  },
  {
   "cell_type": "code",
   "execution_count": 6,
   "id": "3cadf4ce",
   "metadata": {},
   "outputs": [
    {
     "data": {
      "text/html": [
       "\n",
       "            <style>\n",
       "                .geemap-dark {\n",
       "                    --jp-widgets-color: white;\n",
       "                    --jp-widgets-label-color: white;\n",
       "                    --jp-ui-font-color1: white;\n",
       "                    --jp-layout-color2: #454545;\n",
       "                    background-color: #383838;\n",
       "                }\n",
       "\n",
       "                .geemap-dark .jupyter-button {\n",
       "                    --jp-layout-color3: #383838;\n",
       "                }\n",
       "\n",
       "                .geemap-colab {\n",
       "                    background-color: var(--colab-primary-surface-color, white);\n",
       "                }\n",
       "\n",
       "                .geemap-colab .jupyter-button {\n",
       "                    --jp-layout-color3: var(--colab-primary-surface-color, white);\n",
       "                }\n",
       "            </style>\n",
       "            "
      ],
      "text/plain": [
       "<IPython.core.display.HTML object>"
      ]
     },
     "metadata": {},
     "output_type": "display_data"
    }
   ],
   "source": [
    "# Importing packages\n",
    "from datetime import datetime\n",
    "import ee\n",
    "import geemap\n",
    "import geopandas as gpd"
   ]
  },
  {
   "cell_type": "code",
   "execution_count": 96,
   "id": "7fe02584",
   "metadata": {},
   "outputs": [
    {
     "data": {
      "text/html": [
       "\n",
       "            <style>\n",
       "                .geemap-dark {\n",
       "                    --jp-widgets-color: white;\n",
       "                    --jp-widgets-label-color: white;\n",
       "                    --jp-ui-font-color1: white;\n",
       "                    --jp-layout-color2: #454545;\n",
       "                    background-color: #383838;\n",
       "                }\n",
       "\n",
       "                .geemap-dark .jupyter-button {\n",
       "                    --jp-layout-color3: #383838;\n",
       "                }\n",
       "\n",
       "                .geemap-colab {\n",
       "                    background-color: var(--colab-primary-surface-color, white);\n",
       "                }\n",
       "\n",
       "                .geemap-colab .jupyter-button {\n",
       "                    --jp-layout-color3: var(--colab-primary-surface-color, white);\n",
       "                }\n",
       "            </style>\n",
       "            "
      ],
      "text/plain": [
       "<IPython.core.display.HTML object>"
      ]
     },
     "metadata": {},
     "output_type": "display_data"
    }
   ],
   "source": [
    "def main():\n",
    "    \n",
    "    # Initializing Earth Engine\n",
    "    ee.Initialize()\n",
    "    \n",
    "    # A timestamp\n",
    "    now = datetime.now().strftime(\"%d-%m-%y-%H:%M\").replace(\":\",\"_\")\n",
    "    \n",
    "    # Loads the same Images as in the previous notebook, applying the same\n",
    "    # masks and calculations.\n",
    "    tree_coverage_1m = ee.ImageCollection('projects/meta-forest-monitoring-okw37/assets/CanopyHeight').mosaic()\n",
    "    tree_coverage_10m = ee.Image('users/nlang/ETH_GlobalCanopyHeight_2020_10m_v1')\n",
    "    tree_coverage_1m = tree_coverage_1m.updateMask(tree_coverage_1m.gte(1))\n",
    "    tree_coverage_10m = tree_coverage_10m.updateMask(tree_coverage_10m.gte(1))\n",
    "    tree_coverage_mask = tree_coverage_10m.gte(1)\n",
    "    tree_coverage = tree_coverage_1m.updateMask(tree_coverage_mask)\n",
    "    population = ee.Image('JRC/GHSL/P2023A/GHS_POP/2020')\n",
    "    \n",
    "    # Loads the hexagons\n",
    "    hexagons = ee.FeatureCollection(\"projects/dw-city-tree-coverage/assets/city_hexagons\")\n",
    "    \n",
    "    # Creates the pixel area object\n",
    "    pixel_area = ee.Image.pixelArea()\n",
    "\n",
    "    # Maps over the hexagons creating a square of 1km around its centroid\n",
    "    # by first creating a 500m radius buffer and then getting the bounding box.\n",
    "    # Since its projected over the globe, it may vary slightly with latitude.\n",
    "    # Also computes the population living there and the share of tree coverage,\n",
    "    # in a similar fashion to what was done in the previous notebook.\n",
    "    def make_box(feature):\n",
    "        \n",
    "        # Creates the polygon\n",
    "        centroid = feature.geometry().centroid() # Gets the centroid of the hexagon\n",
    "        buffer = centroid.buffer(500) # Circle with 500m radius\n",
    "        box = buffer.bounds() # Bounding box containing the circle, with 1km of side\n",
    "        \n",
    "        # Gets the area of the box\n",
    "        ft_area = box.area(.1) # Small error margin\n",
    "        \n",
    "        # Also saves the lat and lon of the centroid\n",
    "        lon = centroid.coordinates().get(0)\n",
    "        lat = centroid.coordinates().get(1)\n",
    "        \n",
    "        # Computes the tree cover area using the pixel area object\n",
    "        tree_area_image = tree_coverage.gte(1).multiply(pixel_area)\n",
    "        tree_area = tree_area_image.reduceRegion(\n",
    "            reducer = ee.Reducer.sum(),\n",
    "            geometry = box, # The geometry is now the BOUNDING BOX OF THE CIRCLE\n",
    "            scale = 1,\n",
    "            maxPixels = 1e12\n",
    "        ).get('cover_code')\n",
    "        \n",
    "        # Similarly, compute the population on the box\n",
    "        pop_ft = population.reduceRegion(\n",
    "            reducer = ee.Reducer.sum(),\n",
    "            geometry = feature.geometry(), # The box is the area of interest now\n",
    "            scale = 100,\n",
    "            maxPixels = 1e12,\n",
    "        ).get('population_count')\n",
    "                \n",
    "        # And returns the feature, this time making sure to save the new geometry as well\n",
    "        return feature.setGeometry(box)\\\n",
    "                      .set({\n",
    "                        'lon': lon,\n",
    "                        'lat': lat,\n",
    "                        'ft_area': ft_area,\n",
    "                        'tree_area': tree_area,\n",
    "                        'tree_pct': ee.Number(tree_area).divide(ee.Number(ft_area)), # Uses earth engine Number to divide server side\n",
    "                        'pop_ft': pop_ft\n",
    "                    })\n",
    "\n",
    "        \n",
    "    # Runs the computation\n",
    "    boxes = hexagons.map(lambda feature: make_box(feature))\n",
    "    \n",
    "    # And exports the boxes to a separate directory within Google Drive.\n",
    "    # Since we have geo information, we are using geojson as the export format.\n",
    "    geemap.ee_export_vector_to_drive(\n",
    "        collection = boxes,\n",
    "        folder =  'DWTreeCoverAnalysis',\n",
    "        description = f'TreeCoverAnalysis-Boxes-{now}',\n",
    "        fileFormat = 'SHP',\n",
    "        selectors = ['city_id', 'hexagon_n',\n",
    "                     'lon', 'lat', \n",
    "                     'tree_area', 'ft_area', 'tree_pct', 'pop_ft']\n",
    "    )"
   ]
  },
  {
   "cell_type": "code",
   "execution_count": 97,
   "id": "d3e6cade",
   "metadata": {
    "scrolled": true
   },
   "outputs": [
    {
     "data": {
      "text/html": [
       "\n",
       "            <style>\n",
       "                .geemap-dark {\n",
       "                    --jp-widgets-color: white;\n",
       "                    --jp-widgets-label-color: white;\n",
       "                    --jp-ui-font-color1: white;\n",
       "                    --jp-layout-color2: #454545;\n",
       "                    background-color: #383838;\n",
       "                }\n",
       "\n",
       "                .geemap-dark .jupyter-button {\n",
       "                    --jp-layout-color3: #383838;\n",
       "                }\n",
       "\n",
       "                .geemap-colab {\n",
       "                    background-color: var(--colab-primary-surface-color, white);\n",
       "                }\n",
       "\n",
       "                .geemap-colab .jupyter-button {\n",
       "                    --jp-layout-color3: var(--colab-primary-surface-color, white);\n",
       "                }\n",
       "            </style>\n",
       "            "
      ],
      "text/plain": [
       "<IPython.core.display.HTML object>"
      ]
     },
     "metadata": {},
     "output_type": "display_data"
    },
    {
     "name": "stdout",
     "output_type": "stream",
     "text": [
      "{'type': 'Feature', 'geometry': {'geodesic': False, 'type': 'Polygon', 'coordinates': [[[-17.50569479754689, 14.7503823025731], [-17.496450166823735, 14.7503823025731], [-17.496450166823735, 14.759379439463675], [-17.50569479754689, 14.759379439463675], [-17.50569479754689, 14.7503823025731]]]}, 'id': '00000000000000000000', 'properties': {'area': 0.723621187206863, 'city_id': 1452, 'ft_area': 1001255.4926034017, 'hexagon_n': 0, 'lat': 14.7548800064879, 'lon': -17.501079817885895, 'pop_ft': 2752.5696444709038, 'tree_area': 1089.6351030756446, 'tree_pct': 0.001088268789659714}}\n",
      "Exporting TreeCoverAnalysis-Boxes-26-08-24-17_26... Please check the Task Manager from the JavaScript Code Editor.\n"
     ]
    }
   ],
   "source": [
    "if __name__ == \"__main__\":\n",
    "    main()"
   ]
  }
 ],
 "metadata": {
  "kernelspec": {
   "display_name": "Python 3 (ipykernel)",
   "language": "python",
   "name": "python3"
  },
  "language_info": {
   "codemirror_mode": {
    "name": "ipython",
    "version": 3
   },
   "file_extension": ".py",
   "mimetype": "text/x-python",
   "name": "python",
   "nbconvert_exporter": "python",
   "pygments_lexer": "ipython3",
   "version": "3.11.5"
  }
 },
 "nbformat": 4,
 "nbformat_minor": 5
}
